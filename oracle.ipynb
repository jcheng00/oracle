{
 "cells": [
  {
   "cell_type": "markdown",
   "metadata": {},
   "source": [
    "inputs"
   ]
  },
  {
   "cell_type": "code",
   "execution_count": 115,
   "metadata": {},
   "outputs": [],
   "source": [
    "input_gene_id = \"ADA2\" ## entrez ID\n",
    "input_entrez_id = 51816\n",
    "input_protein_file = \"ADA2.txt\" ## isoform file"
   ]
  },
  {
   "cell_type": "markdown",
   "metadata": {},
   "source": [
    "optional inputs"
   ]
  },
  {
   "cell_type": "code",
   "execution_count": 116,
   "metadata": {},
   "outputs": [],
   "source": [
    "drosophila_entrez_id = 7227\n",
    "homo_sapiens_entrez_id = 9606"
   ]
  },
  {
   "cell_type": "markdown",
   "metadata": {},
   "source": [
    "imports"
   ]
  },
  {
   "cell_type": "code",
   "execution_count": 117,
   "metadata": {},
   "outputs": [
    {
     "data": {
      "text/plain": [
       "<module 'oracle_functions' from 'l:\\\\Lab-Rusan\\\\Jacie\\\\00.code\\\\00.git\\\\oracle\\\\oracle_functions.py'>"
      ]
     },
     "execution_count": 117,
     "metadata": {},
     "output_type": "execute_result"
    }
   ],
   "source": [
    "import oracle_functions\n",
    "import requests\n",
    "import pandas as pd\n",
    "import os\n",
    "import importlib\n",
    "importlib.reload(oracle_functions)"
   ]
  },
  {
   "cell_type": "markdown",
   "metadata": {},
   "source": [
    "functions"
   ]
  },
  {
   "cell_type": "markdown",
   "metadata": {},
   "source": [
    "code"
   ]
  },
  {
   "cell_type": "markdown",
   "metadata": {},
   "source": [
    "orthologs and alignments"
   ]
  },
  {
   "cell_type": "code",
   "execution_count": 121,
   "metadata": {},
   "outputs": [
    {
     "name": "stderr",
     "output_type": "stream",
     "text": [
      "C:\\Users\\chengj7\\AppData\\Roaming\\Python\\Python312\\site-packages\\urllib3\\connectionpool.py:1045: InsecureRequestWarning: Unverified HTTPS request is being made to host 'www.flyrnai.org'. Adding certificate verification is strongly advised. See: https://urllib3.readthedocs.io/en/1.26.x/advanced-usage.html#ssl-warnings\n",
      "  warnings.warn(\n"
     ]
    },
    {
     "name": "stdout",
     "output_type": "stream",
     "text": [
      "Found DIOPT orthologs\n"
     ]
    }
   ],
   "source": [
    "## getting and filtering DIOPT orthologs\n",
    "diopt_results, diopt_file = oracle_functions.pull_diopt_orthologs(homo_sapiens_entrez_id, drosophila_entrez_id, input_entrez_id)\n",
    "filtered_diopt_results, filtered_diopt_file = oracle_functions.filter_diopt_results(diopt_results, diopt_file)\n",
    "\n",
    "## making alignment\n",
    "diopt_id_list = filtered_diopt_results[\"entrez_id\"].to_list()\n",
    "diopt_id_string = \" \".join(map(str, diopt_id_list))"
   ]
  },
  {
   "cell_type": "code",
   "execution_count": 122,
   "metadata": {},
   "outputs": [
    {
     "data": {
      "text/html": [
       "<div>\n",
       "<style scoped>\n",
       "    .dataframe tbody tr th:only-of-type {\n",
       "        vertical-align: middle;\n",
       "    }\n",
       "\n",
       "    .dataframe tbody tr th {\n",
       "        vertical-align: top;\n",
       "    }\n",
       "\n",
       "    .dataframe thead th {\n",
       "        text-align: right;\n",
       "    }\n",
       "</style>\n",
       "<table border=\"1\" class=\"dataframe\">\n",
       "  <thead>\n",
       "    <tr style=\"text-align: right;\">\n",
       "      <th></th>\n",
       "      <th>entrez_id</th>\n",
       "      <th>symbol</th>\n",
       "      <th>methods</th>\n",
       "      <th>best_score</th>\n",
       "      <th>score</th>\n",
       "      <th>max_score</th>\n",
       "      <th>best_score_rev</th>\n",
       "      <th>best_score_count</th>\n",
       "      <th>confidence</th>\n",
       "      <th>mist_ppi</th>\n",
       "      <th>mist_genetic</th>\n",
       "      <th>geneid</th>\n",
       "      <th>species_id</th>\n",
       "      <th>species_specific_geneid</th>\n",
       "      <th>species_specific_geneid_type</th>\n",
       "      <th>count</th>\n",
       "    </tr>\n",
       "  </thead>\n",
       "  <tbody>\n",
       "    <tr>\n",
       "      <th>0</th>\n",
       "      <td>39975</td>\n",
       "      <td>Adgf-B</td>\n",
       "      <td>[Compara, eggNOG, OrthoDB, TreeFam, Domainoid,...</td>\n",
       "      <td>Yes</td>\n",
       "      <td>15</td>\n",
       "      <td>18</td>\n",
       "      <td>Yes</td>\n",
       "      <td>2</td>\n",
       "      <td>high</td>\n",
       "      <td>-</td>\n",
       "      <td>-</td>\n",
       "      <td>39975</td>\n",
       "      <td>7227</td>\n",
       "      <td>FBgn0036751</td>\n",
       "      <td>FlyBase</td>\n",
       "      <td>15</td>\n",
       "    </tr>\n",
       "    <tr>\n",
       "      <th>1</th>\n",
       "      <td>39976</td>\n",
       "      <td>Adgf-A</td>\n",
       "      <td>[Compara, eggNOG, Isobase, OrthoDB, TreeFam, D...</td>\n",
       "      <td>Yes</td>\n",
       "      <td>15</td>\n",
       "      <td>18</td>\n",
       "      <td>Yes</td>\n",
       "      <td>2</td>\n",
       "      <td>high</td>\n",
       "      <td>-</td>\n",
       "      <td>-</td>\n",
       "      <td>39976</td>\n",
       "      <td>7227</td>\n",
       "      <td>FBgn0036752</td>\n",
       "      <td>FlyBase</td>\n",
       "      <td>15</td>\n",
       "    </tr>\n",
       "    <tr>\n",
       "      <th>2</th>\n",
       "      <td>36627</td>\n",
       "      <td>Adgf-E</td>\n",
       "      <td>[Compara, eggNOG, OrthoDB, TreeFam, Domainoid,...</td>\n",
       "      <td>No</td>\n",
       "      <td>14</td>\n",
       "      <td>18</td>\n",
       "      <td>Yes</td>\n",
       "      <td>1</td>\n",
       "      <td>moderate</td>\n",
       "      <td>-</td>\n",
       "      <td>-</td>\n",
       "      <td>36627</td>\n",
       "      <td>7227</td>\n",
       "      <td>FBgn0033952</td>\n",
       "      <td>FlyBase</td>\n",
       "      <td>14</td>\n",
       "    </tr>\n",
       "    <tr>\n",
       "      <th>3</th>\n",
       "      <td>41679</td>\n",
       "      <td>Adgf-D</td>\n",
       "      <td>[Compara, eggNOG, Homologene, OrthoDB, TreeFam...</td>\n",
       "      <td>No</td>\n",
       "      <td>12</td>\n",
       "      <td>18</td>\n",
       "      <td>Yes</td>\n",
       "      <td>1</td>\n",
       "      <td>moderate</td>\n",
       "      <td>-</td>\n",
       "      <td>-</td>\n",
       "      <td>41679</td>\n",
       "      <td>7227</td>\n",
       "      <td>FBgn0038172</td>\n",
       "      <td>FlyBase</td>\n",
       "      <td>12</td>\n",
       "    </tr>\n",
       "    <tr>\n",
       "      <th>4</th>\n",
       "      <td>41680</td>\n",
       "      <td>Adgf-C</td>\n",
       "      <td>[Compara, eggNOG, Homologene, OrthoDB, TreeFam...</td>\n",
       "      <td>No</td>\n",
       "      <td>11</td>\n",
       "      <td>18</td>\n",
       "      <td>Yes</td>\n",
       "      <td>1</td>\n",
       "      <td>moderate</td>\n",
       "      <td>-</td>\n",
       "      <td>-</td>\n",
       "      <td>41680</td>\n",
       "      <td>7227</td>\n",
       "      <td>FBgn0038173</td>\n",
       "      <td>FlyBase</td>\n",
       "      <td>11</td>\n",
       "    </tr>\n",
       "    <tr>\n",
       "      <th>5</th>\n",
       "      <td>64879</td>\n",
       "      <td>Adgf-A2</td>\n",
       "      <td>[Compara, eggNOG, OrthoDB, TreeFam, OMA, Ortho...</td>\n",
       "      <td>No</td>\n",
       "      <td>8</td>\n",
       "      <td>18</td>\n",
       "      <td>Yes</td>\n",
       "      <td>1</td>\n",
       "      <td>moderate</td>\n",
       "      <td>-</td>\n",
       "      <td>-</td>\n",
       "      <td>64879</td>\n",
       "      <td>7227</td>\n",
       "      <td>FBgn0043025</td>\n",
       "      <td>FlyBase</td>\n",
       "      <td>8</td>\n",
       "    </tr>\n",
       "  </tbody>\n",
       "</table>\n",
       "</div>"
      ],
      "text/plain": [
       "  entrez_id   symbol                                            methods  \\\n",
       "0     39975   Adgf-B  [Compara, eggNOG, OrthoDB, TreeFam, Domainoid,...   \n",
       "1     39976   Adgf-A  [Compara, eggNOG, Isobase, OrthoDB, TreeFam, D...   \n",
       "2     36627   Adgf-E  [Compara, eggNOG, OrthoDB, TreeFam, Domainoid,...   \n",
       "3     41679   Adgf-D  [Compara, eggNOG, Homologene, OrthoDB, TreeFam...   \n",
       "4     41680   Adgf-C  [Compara, eggNOG, Homologene, OrthoDB, TreeFam...   \n",
       "5     64879  Adgf-A2  [Compara, eggNOG, OrthoDB, TreeFam, OMA, Ortho...   \n",
       "\n",
       "  best_score  score  max_score best_score_rev  best_score_count confidence  \\\n",
       "0        Yes     15         18            Yes                 2       high   \n",
       "1        Yes     15         18            Yes                 2       high   \n",
       "2         No     14         18            Yes                 1   moderate   \n",
       "3         No     12         18            Yes                 1   moderate   \n",
       "4         No     11         18            Yes                 1   moderate   \n",
       "5         No      8         18            Yes                 1   moderate   \n",
       "\n",
       "  mist_ppi mist_genetic  geneid  species_id species_specific_geneid  \\\n",
       "0        -            -   39975        7227             FBgn0036751   \n",
       "1        -            -   39976        7227             FBgn0036752   \n",
       "2        -            -   36627        7227             FBgn0033952   \n",
       "3        -            -   41679        7227             FBgn0038172   \n",
       "4        -            -   41680        7227             FBgn0038173   \n",
       "5        -            -   64879        7227             FBgn0043025   \n",
       "\n",
       "  species_specific_geneid_type  count  \n",
       "0                      FlyBase     15  \n",
       "1                      FlyBase     15  \n",
       "2                      FlyBase     14  \n",
       "3                      FlyBase     12  \n",
       "4                      FlyBase     11  \n",
       "5                      FlyBase      8  "
      ]
     },
     "execution_count": 122,
     "metadata": {},
     "output_type": "execute_result"
    }
   ],
   "source": [
    "filtered_diopt_results"
   ]
  }
 ],
 "metadata": {
  "kernelspec": {
   "display_name": "Python 3",
   "language": "python",
   "name": "python3"
  },
  "language_info": {
   "codemirror_mode": {
    "name": "ipython",
    "version": 3
   },
   "file_extension": ".py",
   "mimetype": "text/x-python",
   "name": "python",
   "nbconvert_exporter": "python",
   "pygments_lexer": "ipython3",
   "version": "3.12.6"
  }
 },
 "nbformat": 4,
 "nbformat_minor": 2
}
