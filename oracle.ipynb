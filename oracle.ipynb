{
 "cells": [
  {
   "cell_type": "markdown",
   "metadata": {},
   "source": [
    "inputs"
   ]
  },
  {
   "cell_type": "code",
   "execution_count": 154,
   "metadata": {},
   "outputs": [],
   "source": [
    "input_gene_id = \"ADA2\" ## entrez ID\n",
    "input_entrez_id = 51816\n",
    "input_protein_file = \"ADA2.txt\" ## isoform file"
   ]
  },
  {
   "cell_type": "markdown",
   "metadata": {},
   "source": [
    "optional inputs"
   ]
  },
  {
   "cell_type": "code",
   "execution_count": 155,
   "metadata": {},
   "outputs": [],
   "source": [
    "drosophila_entrez_id = 7227\n",
    "homo_sapiens_entrez_id = 9606\n",
    "\n",
    "script_folder = \"oracle_scripts\"\n",
    "get_protein_info_script = f\"{script_folder}/get_protein_info.py\"\n",
    "clustalw_script = f\"{script_folder}/clustalw.sh\""
   ]
  },
  {
   "cell_type": "markdown",
   "metadata": {},
   "source": [
    "imports"
   ]
  },
  {
   "cell_type": "code",
   "execution_count": 156,
   "metadata": {},
   "outputs": [
    {
     "data": {
      "text/plain": [
       "<module 'oracle_functions' from 'l:\\\\Lab-Rusan\\\\Jacie\\\\00.code\\\\00.git\\\\oracle\\\\oracle_functions.py'>"
      ]
     },
     "execution_count": 156,
     "metadata": {},
     "output_type": "execute_result"
    }
   ],
   "source": [
    "import oracle_functions\n",
    "import requests\n",
    "import pandas as pd\n",
    "import os\n",
    "import importlib\n",
    "\n",
    "importlib.reload(oracle_functions)"
   ]
  },
  {
   "cell_type": "markdown",
   "metadata": {},
   "source": [
    "code"
   ]
  },
  {
   "cell_type": "markdown",
   "metadata": {},
   "source": [
    "orthologs and alignments"
   ]
  },
  {
   "cell_type": "code",
   "execution_count": 157,
   "metadata": {},
   "outputs": [
    {
     "name": "stderr",
     "output_type": "stream",
     "text": [
      "C:\\Users\\chengj7\\AppData\\Roaming\\Python\\Python312\\site-packages\\urllib3\\connectionpool.py:1045: InsecureRequestWarning: Unverified HTTPS request is being made to host 'www.flyrnai.org'. Adding certificate verification is strongly advised. See: https://urllib3.readthedocs.io/en/1.26.x/advanced-usage.html#ssl-warnings\n",
      "  warnings.warn(\n"
     ]
    },
    {
     "name": "stdout",
     "output_type": "stream",
     "text": [
      "Found DIOPT orthologs\n"
     ]
    },
    {
     "data": {
      "text/plain": [
       "1"
      ]
     },
     "execution_count": 157,
     "metadata": {},
     "output_type": "execute_result"
    }
   ],
   "source": [
    "## make ortholog output folder\n",
    "ortholog_output_folder = \"ortholog_output\"\n",
    "os.system(f\"mkdir {ortholog_output_folder}\")\n",
    "\n",
    "## getting and filtering DIOPT orthologs\n",
    "diopt_results, diopt_file = oracle_functions.pull_diopt_orthologs(homo_sapiens_entrez_id, drosophila_entrez_id, input_entrez_id)\n",
    "filtered_diopt_results, filtered_diopt_file = oracle_functions.filter_diopt_results(diopt_results, diopt_file)\n",
    "\n",
    "## getting protein info for alignment\n",
    "diopt_id_list = filtered_diopt_results[\"entrez_id\"].to_list()\n",
    "diopt_id_string = \" \".join(map(str, diopt_id_list))\n",
    "diopt_fasta = \"protein_orthologs.fasta\"\n",
    "command = f\"python {get_protein_info_script} {diopt_id_string} protein_orthologs.zip {diopt_fasta}\"\n",
    "os.system(command)\n",
    "\n",
    "## combine into one file\n",
    "combined_file = \"combined_proteins.fasta\"\n",
    "with open(input_protein_file, 'r') as f1:\n",
    "    data1 = f1.read()\n",
    "with open(diopt_fasta, 'r') as f2:\n",
    "    data2 = f2.read()\n",
    "with open(combined_file, 'w') as cf:\n",
    "    cf.write(data1)\n",
    "    cf.write(\"\\n\")\n",
    "    cf.write(data2)\n",
    "\n",
    "# submit clustalw script\n",
    "os.system(f\"sbatch {clustalw_script} -INFILE={combined_file}\")"
   ]
  },
  {
   "cell_type": "markdown",
   "metadata": {},
   "source": [
    "evolution"
   ]
  },
  {
   "cell_type": "code",
   "execution_count": null,
   "metadata": {},
   "outputs": [],
   "source": []
  }
 ],
 "metadata": {
  "kernelspec": {
   "display_name": "Python 3",
   "language": "python",
   "name": "python3"
  },
  "language_info": {
   "codemirror_mode": {
    "name": "ipython",
    "version": 3
   },
   "file_extension": ".py",
   "mimetype": "text/x-python",
   "name": "python",
   "nbconvert_exporter": "python",
   "pygments_lexer": "ipython3",
   "version": "3.12.6"
  }
 },
 "nbformat": 4,
 "nbformat_minor": 2
}
