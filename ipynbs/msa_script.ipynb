{
 "cells": [
  {
   "cell_type": "markdown",
   "metadata": {},
   "source": [
    "inputs"
   ]
  },
  {
   "cell_type": "code",
   "execution_count": 49,
   "metadata": {},
   "outputs": [],
   "source": [
    "## inputs\n",
    "gene_of_interest = 51816 # ADA2 entrez id\n",
    "input_protein_file = \"ADA2.txt\"\n",
    "mutations_of_interest = [\"G47A\", \"Y453C\"]\n",
    "\n",
    "## optional inputs\n",
    "input_species_id = 9606 # human\n",
    "output_species_id = 7227 # fly\n",
    "\n",
    "#file paths\n",
    "ortholog_script = \"pull_diopt_orthologs.py\"\n",
    "ortholog_output_folder = \"ortholog_output\"\n",
    "protein_info_script = \"get_protein_info.py\""
   ]
  },
  {
   "cell_type": "markdown",
   "metadata": {},
   "source": [
    "imports"
   ]
  },
  {
   "cell_type": "code",
   "execution_count": 50,
   "metadata": {},
   "outputs": [],
   "source": [
    "## imports\n",
    "import os\n",
    "import pandas as pd"
   ]
  },
  {
   "cell_type": "markdown",
   "metadata": {},
   "source": [
    "functions"
   ]
  },
  {
   "cell_type": "code",
   "execution_count": 51,
   "metadata": {},
   "outputs": [],
   "source": [
    "## functions\n",
    "def iterate_files_in_folder(folder_path):\n",
    "    file_list = []\n",
    "    for root, dirs, files in os.walk(folder_path):\n",
    "        for file in files:\n",
    "            file_list.append(os.path.join(root, file))\n",
    "    return file_list"
   ]
  },
  {
   "cell_type": "markdown",
   "metadata": {},
   "source": [
    "code"
   ]
  },
  {
   "cell_type": "code",
   "execution_count": null,
   "metadata": {},
   "outputs": [],
   "source": [
    "## get orthologs\n",
    "os.system(f\"python {ortholog_script} {input_species_id} {output_species_id} {gene_of_interest}\")"
   ]
  },
  {
   "cell_type": "code",
   "execution_count": 66,
   "metadata": {},
   "outputs": [],
   "source": [
    "## get orthologs gene ids from output folder called otholog_outputs\n",
    "ortholog_list = iterate_files_in_folder(ortholog_output_folder)\n",
    "\n",
    "## get best ortholog matches\n",
    "## filtering criteria: best match, reverse match with high score, or high confidence\n",
    "all_entrez_ids = set()  # Initialize a set to store unique entrez ids\n",
    "\n",
    "for file in ortholog_list:\n",
    "    ortholog_df = pd.read_csv(file)\n",
    "\n",
    "    # results with high confidence\n",
    "    high_confidence_entrez_ids = ortholog_df[ortholog_df['confidence'] == \"high\"]['entrez_id'].tolist()\n",
    "    all_entrez_ids.update(high_confidence_entrez_ids)\n",
    "\n",
    "    # results with highest score\n",
    "    best_score_entrez_ids = ortholog_df[ortholog_df['best_score'] == \"Yes\"]['entrez_id'].tolist()\n",
    "    all_entrez_ids.update(best_score_entrez_ids)\n",
    "\n",
    "    # results with highest reverse score and within five points of the results with highest score\n",
    "    best_score = ortholog_df[ortholog_df['best_score'] == \"Yes\"]['score']\n",
    "    filtered_df = ortholog_df[ (ortholog_df['best_score_rev'] == \"Yes\") &\n",
    "        (ortholog_df['score'].apply(lambda x: any(abs(x - bs) <= 5 for bs in best_score)))]\n",
    "    best_reverse_entrez_ids = filtered_df['entrez_id'].tolist()\n",
    "    all_entrez_ids.update(best_reverse_entrez_ids)\n",
    "\n",
    "# Convert set to space-separated string\n",
    "all_entrez_ids_str = \" \".join(map(str, all_entrez_ids))\n",
    "\n",
    "# Convert set to list if needed\n",
    "# all_entrez_ids = list(all_entrez_ids)"
   ]
  },
  {
   "cell_type": "code",
   "execution_count": 68,
   "metadata": {},
   "outputs": [
    {
     "data": {
      "text/plain": [
       "0"
      ]
     },
     "execution_count": 68,
     "metadata": {},
     "output_type": "execute_result"
    }
   ],
   "source": [
    "file1 = \"protein_orthologs.fasta\"\n",
    "file2 = \"ADA2.fasta\"\n",
    "combined_file = \"combined_proteins.fasta\"\n",
    "\n",
    "## get protein info\n",
    "os.system(f\"python {protein_info_script} {all_entrez_ids_str} protein_orthologs.zip {file1}\")\n",
    "# os.system(f\"python {protein_info_script} {gene_of_interest} input_protein.zip {file2}\")\n",
    "\n",
    "## combine into one file\n",
    "with open(file1, 'r') as f1:\n",
    "    data1 = f1.read()\n",
    "with open(file2, 'r') as f2:\n",
    "    data2 = f2.read()\n",
    "with open(combined_file, 'w') as cf:\n",
    "    cf.write(data1)\n",
    "    cf.write(\"\\n\")\n",
    "    cf.write(data2)\n",
    "\n",
    "## submit clustal-w script\n",
    "os.system(f\"sbatch clustalo.sh -INFILE={combined_file}\")"
   ]
  }
 ],
 "metadata": {
  "kernelspec": {
   "display_name": "Python 3",
   "language": "python",
   "name": "python3"
  },
  "language_info": {
   "codemirror_mode": {
    "name": "ipython",
    "version": 3
   },
   "file_extension": ".py",
   "mimetype": "text/x-python",
   "name": "python",
   "nbconvert_exporter": "python",
   "pygments_lexer": "ipython3",
   "version": "3.12.6"
  }
 },
 "nbformat": 4,
 "nbformat_minor": 2
}
