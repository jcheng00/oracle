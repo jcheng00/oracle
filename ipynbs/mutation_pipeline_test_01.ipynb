{
 "cells": [
  {
   "cell_type": "code",
   "execution_count": 6,
   "metadata": {},
   "outputs": [],
   "source": [
    "input_protein_file = \"ADA2.txt\"\n",
    "mutations_of_interest = [\"G47A\", \"Y453C\"]"
   ]
  },
  {
   "cell_type": "code",
   "execution_count": 7,
   "metadata": {},
   "outputs": [],
   "source": [
    "import re"
   ]
  },
  {
   "cell_type": "code",
   "execution_count": 8,
   "metadata": {},
   "outputs": [],
   "source": [
    "def clean_text_file(file_path):\n",
    "    with open(file_path, 'r') as file:\n",
    "        lines = file.readlines()\n",
    "    cleaned_content = ''.join(line.strip() for line in lines if not line.startswith('>'))\n",
    "    return cleaned_content\n",
    "\n",
    "def split_on_transition(s):\n",
    "    return re.findall(r'[A-Za-z]+|\\d+', s)\n",
    "\n",
    "def replace_letter_at_index(s, index, new_letter, original_letter):\n",
    "    if index < 0 or index >= len(s):\n",
    "        raise ValueError(\"Index is out of bounds\")\n",
    "    if s[index] != original_letter:\n",
    "        raise ValueError(f\"Original letter at position {index+1} is not '{original_letter}'\")\n",
    "    return s[:index] + new_letter + s[index + 1:]\n",
    "\n",
    "def make_mutant_fasta_header(file_path):\n",
    "    with open(file_path, 'r') as file:\n",
    "        lines = file.readlines()\n",
    "    mutant_fasta_header = ''\n",
    "    for line in lines:\n",
    "        if line.startswith('>'):\n",
    "            mutant_fasta_header = line.replace('>', '>MUTANT_', 1)\n",
    "            mutant_fasta_header = mutant_fasta_header.strip()\n",
    "    return mutant_fasta_header\n",
    "\n",
    "def write_strings_to_file(file_path, first_string, second_string):\n",
    "    with open(file_path, 'w') as file:\n",
    "        # Write the first string as the first line\n",
    "        file.write(first_string + '\\n')\n",
    "        \n",
    "        # Break the second string into lines of 50 characters\n",
    "        for i in range(0, len(second_string), 50):\n",
    "            file.write(second_string[i:i+50] + '\\n')"
   ]
  },
  {
   "cell_type": "code",
   "execution_count": 9,
   "metadata": {},
   "outputs": [],
   "source": [
    "## import protein text\n",
    "protein = clean_text_file(input_protein_file)\n",
    "mutant_protein = clean_text_file(input_protein_file)\n",
    "\n",
    "## parse desired mutations\n",
    "mutation_list = []\n",
    "for mutation in mutations_of_interest:\n",
    "    result = split_on_transition(mutation)\n",
    "    mutation_list.append(result)\n",
    "\n",
    "## create mutations\n",
    "for mutation in mutation_list:\n",
    "    original_residue = mutation[0]\n",
    "    position = int(mutation[1])\n",
    "    new_residue = mutation[2]\n",
    "\n",
    "    mutant_protein = replace_letter_at_index(mutant_protein, position-1, new_residue, original_residue) ## -1 b/c switching from normal counting to python zero-indexing\n",
    "\n",
    "## make output file\n",
    "output_protein_file = input_protein_file.split(\".\")[0] + \"_mutant.txt\"\n",
    "\n",
    "new_fasta_header = make_mutant_fasta_header(input_protein_file)\n",
    "\n",
    "write_strings_to_file(output_protein_file, new_fasta_header, mutant_protein)"
   ]
  },
  {
   "cell_type": "code",
   "execution_count": 10,
   "metadata": {},
   "outputs": [],
   "source": [
    "## next steps: start looking into protein stability stuff"
   ]
  }
 ],
 "metadata": {
  "kernelspec": {
   "display_name": "Python 3",
   "language": "python",
   "name": "python3"
  },
  "language_info": {
   "codemirror_mode": {
    "name": "ipython",
    "version": 3
   },
   "file_extension": ".py",
   "mimetype": "text/x-python",
   "name": "python",
   "nbconvert_exporter": "python",
   "pygments_lexer": "ipython3",
   "version": "3.12.6"
  }
 },
 "nbformat": 4,
 "nbformat_minor": 2
}
