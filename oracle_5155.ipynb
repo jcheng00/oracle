{
 "cells": [
  {
   "cell_type": "markdown",
   "metadata": {},
   "source": [
    "inputs"
   ]
  },
  {
   "cell_type": "code",
   "execution_count": 9,
   "metadata": {},
   "outputs": [],
   "source": [
    "input_gene_id = \"PDGFB\" ## entrez ID\n",
    "input_entrez_id = 5155\n",
    "input_uniprot_id = \"P01127\"\n",
    "input_protein_file = \"ADA2.txt\" ## isoform file"
   ]
  },
  {
   "cell_type": "markdown",
   "metadata": {},
   "source": [
    "optional inputs"
   ]
  },
  {
   "cell_type": "code",
   "execution_count": 10,
   "metadata": {},
   "outputs": [],
   "source": [
    "drosophila_entrez_id = 7227\n",
    "homo_sapiens_entrez_id = 9606\n",
    "\n",
    "script_folder = \"oracle_scripts\"\n",
    "get_protein_info_script = f\"{script_folder}/get_protein_info.py\"\n",
    "clustalw_script = f\"{script_folder}/clustalw.sh\"\n",
    "\n",
    "dry_run = \"yes\""
   ]
  },
  {
   "cell_type": "markdown",
   "metadata": {},
   "source": [
    "imports"
   ]
  },
  {
   "cell_type": "code",
   "execution_count": 11,
   "metadata": {},
   "outputs": [
    {
     "data": {
      "text/plain": [
       "<module 'oracle_functions' from 'l:\\\\Lab-Rusan\\\\Jacie\\\\00.code\\\\00.git\\\\oracle\\\\oracle_functions.py'>"
      ]
     },
     "execution_count": 11,
     "metadata": {},
     "output_type": "execute_result"
    }
   ],
   "source": [
    "import oracle_functions\n",
    "import requests\n",
    "import pandas as pd\n",
    "import os\n",
    "import importlib\n",
    "\n",
    "importlib.reload(oracle_functions)"
   ]
  },
  {
   "cell_type": "markdown",
   "metadata": {},
   "source": [
    "code"
   ]
  },
  {
   "cell_type": "markdown",
   "metadata": {},
   "source": [
    "orthologs and alignments"
   ]
  },
  {
   "cell_type": "code",
   "execution_count": 12,
   "metadata": {},
   "outputs": [
    {
     "name": "stderr",
     "output_type": "stream",
     "text": [
      "C:\\Users\\chengj7\\AppData\\Roaming\\Python\\Python312\\site-packages\\urllib3\\connectionpool.py:1045: InsecureRequestWarning: Unverified HTTPS request is being made to host 'www.flyrnai.org'. Adding certificate verification is strongly advised. See: https://urllib3.readthedocs.io/en/1.26.x/advanced-usage.html#ssl-warnings\n",
      "  warnings.warn(\n"
     ]
    },
    {
     "name": "stdout",
     "output_type": "stream",
     "text": [
      "Found DIOPT orthologs\n"
     ]
    }
   ],
   "source": [
    "## make ortholog output folder\n",
    "ortholog_and_alignment_output_folder = \"ortholog_and_alignments_output\"\n",
    "os.system(f\"mkdir {input_gene_id}_{ortholog_and_alignment_output_folder}\")\n",
    "\n",
    "## getting and filtering DIOPT orthologs\n",
    "diopt_results, diopt_file = oracle_functions.pull_diopt_orthologs(homo_sapiens_entrez_id, drosophila_entrez_id, input_entrez_id, ortholog_and_alignment_output_folder)\n",
    "filtered_diopt_results, filtered_diopt_file = oracle_functions.filter_diopt_results(diopt_results, diopt_file, ortholog_and_alignment_output_folder)\n",
    "\n",
    "## getting protein info for alignment\n",
    "diopt_id_list = filtered_diopt_results[\"entrez_id\"].to_list()\n",
    "diopt_id_string = \" \".join(map(str, diopt_id_list))\n",
    "diopt_fasta = \"protein_orthologs.fasta\"\n",
    "command = f\"python {get_protein_info_script} {diopt_id_string} {ortholog_and_alignment_output_folder}/protein_orthologs.zip {diopt_fasta}\"\n",
    "os.system(command)\n",
    "\n",
    "## combine into one file\n",
    "combined_file = f\"{ortholog_and_alignment_output_folder}/combined_proteins.fasta\"\n",
    "with open(input_protein_file, 'r') as f1:\n",
    "    data1 = f1.read()\n",
    "with open(diopt_fasta, 'r') as f2:\n",
    "    data2 = f2.read()\n",
    "with open(combined_file, 'w') as cf:\n",
    "    cf.write(data1)\n",
    "    cf.write(\"\\n\")\n",
    "    cf.write(data2)\n",
    "\n",
    "# submit clustalw script\n",
    "if dry_run == \"no\":\n",
    "    os.system(f\"sbatch {clustalw_script} -INFILE={combined_file}\")"
   ]
  },
  {
   "cell_type": "markdown",
   "metadata": {},
   "source": [
    "evolution: phylogenetic tree"
   ]
  },
  {
   "cell_type": "code",
   "execution_count": 13,
   "metadata": {},
   "outputs": [
    {
     "name": "stdout",
     "output_type": "stream",
     "text": [
      "Tree saved to ortholog_and_alignments_output/phylo_tree.png\n"
     ]
    },
    {
     "data": {
      "text/plain": [
       "<Figure size 1000x800 with 0 Axes>"
      ]
     },
     "metadata": {},
     "output_type": "display_data"
    }
   ],
   "source": [
    "alignment_file = f\"{ortholog_and_alignment_output_folder}/msa_test.dnd\"\n",
    "oracle_functions.visualize_phylogenetic_tree(alignment_file, output_file=f\"{ortholog_and_alignment_output_folder}/phylo_tree.png\")"
   ]
  },
  {
   "cell_type": "markdown",
   "metadata": {},
   "source": [
    "mutation effects"
   ]
  },
  {
   "cell_type": "code",
   "execution_count": 14,
   "metadata": {},
   "outputs": [
    {
     "ename": "SyntaxError",
     "evalue": "invalid syntax (891866991.py, line 32)",
     "output_type": "error",
     "traceback": [
      "\u001b[1;36m  Cell \u001b[1;32mIn[14], line 32\u001b[1;36m\u001b[0m\n\u001b[1;33m    oracle_functions.generate_pymol_script_all  eles(filtered_df, \"amino_acid_position\", \"color\", \"color_alleles.pml\")\u001b[0m\n\u001b[1;37m                                                ^\u001b[0m\n\u001b[1;31mSyntaxError\u001b[0m\u001b[1;31m:\u001b[0m invalid syntax\n"
     ]
    }
   ],
   "source": [
    "url = \"http://v1.marrvel.org/data/clinvar\"\n",
    "req = requests.get(url, params = {\"geneSymbol\": input_gene_id})\n",
    "df = pd.read_json(req.text)\n",
    "\n",
    "# Filter the DataFrame to include only rows where the title contains \"(p.\"\n",
    "filtered_df = df[df['title'].str.contains(r'\\(p\\.', na=False)]\n",
    "filtered_df = filtered_df.reset_index(drop=True)\n",
    "\n",
    "# Extract the string between parentheses that contains \"p.\"\n",
    "filtered_df['protein_change'] = filtered_df['title'].str.extract(r'\\(([^)]*p\\.[^)]*)\\)')\n",
    "\n",
    "# Remove the \"p.\" prefix from the extracted protein change\n",
    "filtered_df['protein_change'] = filtered_df['protein_change'].str.replace('p.', '', regex=False)\n",
    "\n",
    "significance_description = []\n",
    "for i, row in filtered_df.iterrows():\n",
    "    desc = filtered_df[\"significance\"][i][\"description\"]\n",
    "    significance_description.append(desc)\n",
    "filtered_df[\"significance_description\"] = significance_description\n",
    "\n",
    "amino_acid_position = []\n",
    "for i in filtered_df[\"protein_change\"].to_list():\n",
    "    position = oracle_functions.extract_numbers(i)\n",
    "    if len(position) > 1:\n",
    "        raise ValueError(\"Something went wrong. There hould not be more than one amino acid position\")\n",
    "    amino_acid_position.append(position[0])\n",
    "filtered_df[\"amino_acid_position\"] = amino_acid_position\n",
    "\n",
    "# Generate PyMOL script\n",
    "dict = oracle_functions.create_color_dict(filtered_df, 'amino_acid_position', 'significance_description')\n",
    "filtered_df[\"color\"] = filtered_df[\"amino_acid_position\"].map(dict)\n",
    "oracle_functions.generate_pymol_script_all  eles(filtered_df, \"amino_acid_position\", \"color\", \"color_alleles.pml\")\n"
   ]
  },
  {
   "cell_type": "code",
   "execution_count": null,
   "metadata": {},
   "outputs": [],
   "source": []
  },
  {
   "cell_type": "code",
   "execution_count": null,
   "metadata": {},
   "outputs": [],
   "source": [
    "url = f\"https://rest.uniprot.org/uniprotkb/{input_uniprot_id}\"\n",
    "req = requests.get(url)\n",
    "data = req.json()\n",
    "\n",
    "temp_list = []\n",
    "for i in range(0, len(data[\"features\"])):\n",
    "    if data[\"features\"][i][\"type\"] == \"Active site\" or data[\"features\"][i][\"type\"] == \"Binding site\":\n",
    "        temp_list.append(data[\"features\"][i])\n",
    "df = pd.DataFrame(temp_list)\n",
    "df_flattened = pd.json_normalize(temp_list)\n",
    "oracle_functions.generate_pymol_script_domains(df_flattened)"
   ]
  }
 ],
 "metadata": {
  "kernelspec": {
   "display_name": "Python 3",
   "language": "python",
   "name": "python3"
  },
  "language_info": {
   "codemirror_mode": {
    "name": "ipython",
    "version": 3
   },
   "file_extension": ".py",
   "mimetype": "text/x-python",
   "name": "python",
   "nbconvert_exporter": "python",
   "pygments_lexer": "ipython3",
   "version": "3.12.6"
  }
 },
 "nbformat": 4,
 "nbformat_minor": 2
}
